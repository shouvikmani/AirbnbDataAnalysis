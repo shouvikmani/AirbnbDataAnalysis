{
 "cells": [
  {
   "cell_type": "markdown",
   "metadata": {},
   "source": [
    "# Understanding Airbnb Spaces in New York City"
   ]
  },
  {
   "cell_type": "markdown",
   "metadata": {},
   "source": [
    "In this data analysis, we will be scraping Airbnb data and gathering insights to form valuable conclusions. We will do linear regression and map visualizations to understand what factors affect price and ratings of Airbnb listings in New York City.\n",
    "\n",
    "Specifically, we'll be addressing the following research Questions:\n",
    "\n",
    "1. Part I: Which neighborhoods in New York City have the costliest Airbnb listings?\n",
    "2. Part II: Which factors have the greatest influence on the price of an Airbnb listing?\n",
    "3. Part III: Which factors have the greatest influence on the star rating of an Airbnb listing?"
   ]
  },
  {
   "cell_type": "markdown",
   "metadata": {},
   "source": [
    "## Getting the Data\n",
    "\n",
    "Since Airbnb has no official API, one must reverse engineer the endpoints by looking at network requests from the Public Airbnb listings page. Luckily, a [third party website](http://airbnbapi.org/) discovered the endpoints for us. We will be using the Search and Listing Info endpoints. Click on the endpoints to get the raw json results.\n",
    "\n",
    "Search Listings (by location \"New York\"): \n",
    "https://api.airbnb.com/v2/search_results?client_id=3092nxybyb0otqw18e8nh5nty&locale=USD&location=New+York\n",
    "\n",
    "Listing Info (by listing ID):\n",
    "https://api.airbnb.com/v2/listings/5116458?client_id=3092nxybyb0otqw18e8nh5nty&_format=v1_legacy_for_p3\n",
    "\n",
    "The following code is a sample of the AirbnbClient script to search for a number of listings in a location, and save certain parameters to a CSV file. \n",
    "\n",
    "\n",
    "You can use the `airbnb-client.py` script to get results yourself.  "
   ]
  },
  {
   "cell_type": "code",
   "execution_count": 18,
   "metadata": {
    "collapsed": false
   },
   "outputs": [],
   "source": [
    "import requests\n",
    "import sys\n",
    "import csv\n",
    "import time\n",
    "import pandas as pd\n",
    "import matplotlib\n",
    "%matplotlib inline\n",
    "import matplotlib.pyplot as plt\n",
    "import seaborn"
   ]
  },
  {
   "cell_type": "code",
   "execution_count": 8,
   "metadata": {
    "collapsed": true
   },
   "outputs": [],
   "source": [
    "class AirbnbClient:\n",
    "    def __init__(self):\n",
    "\n",
    "        CLIENT_ID = \"3092nxybyb0otqw18e8nh5nty\"\n",
    "        self.REQUEST_INTERVAL = .1\n",
    "        self.DEBUG = True\n",
    "        self.MAX_LIMIT = 50\n",
    "        self.search_url = \"https://api.airbnb.com/v2/search_results?client_id=\" + CLIENT_ID\n",
    "        self.listing_url = \"https://api.airbnb.com/v2/listings/%d?client_id=\"+CLIENT_ID+\"&_format=v1_legacy_for_p3\"\n",
    "\n",
    "    def scrape(self, location, num_listings):\n",
    "        num_loops = (num_listings / self.MAX_LIMIT) + 1\n",
    "\n",
    "        offset = 0\n",
    "        listings = []\n",
    "        while num_listings > 0:\n",
    "            listings += self.search(location, limit=min(num_listings, self.MAX_LIMIT), offset=offset)\n",
    "            num_listings -= self.MAX_LIMIT\n",
    "            offset += self.MAX_LIMIT\n",
    "\n",
    "        listings = map(lambda l: l[\"listing\"][\"id\"], listings)\n",
    "\n",
    "        return listings\n",
    "\n",
    "    def search(self, location, limit, offset, locale=\"USD\"):\n",
    "\n",
    "        params = {\n",
    "            \"locale\": locale,\n",
    "            \"_limit\": limit,\n",
    "            \"_offset\": offset,\n",
    "            \"location\": location\n",
    "        }\n",
    "        resp = requests.get(self.search_url, params=params)\n",
    "        if resp.status_code != 200:\n",
    "            print \"Error occured in request to %s\" % self.search_url\n",
    "            return []\n",
    "        results = resp.json()\n",
    "        \n",
    "        return results[\"search_results\"]\n",
    "    \n",
    "    "
   ]
  },
  {
   "cell_type": "markdown",
   "metadata": {},
   "source": [
    "This code uses pagination to get however many search results are requested. Since the API search result limit is 50, offsets are needed for returning more than 50 listings. Once a list of listings ids is obtained, we get the info on each one using the `parse_listings` function. "
   ]
  },
  {
   "cell_type": "code",
   "execution_count": 9,
   "metadata": {
    "collapsed": false
   },
   "outputs": [],
   "source": [
    "def parse_listings(self, listings, params_filename=\"params.txt\", output_filename=\"airbnb-results.csv\"):\n",
    "\n",
    "    with open(params_filename, 'r') as f:\n",
    "        params = f.readlines()\n",
    "        f.close()\n",
    "\n",
    "    params = map(lambda s: s.rstrip('\\n'), params)\n",
    "\n",
    "    pf = open(output_filename, 'w')\n",
    "    writer = csv.writer(pf, delimiter=',', quotechar='', quoting=csv.QUOTE_NONE, escapechar='\\\\')\n",
    "    writer.writerow(params)\n",
    "\n",
    "    for i,lid in enumerate(listings):\n",
    "        url = self.listing_url % lid\n",
    "        resp = requests.get(url)\n",
    "        l = resp.json()[\"listing\"]\n",
    "        vals = []\n",
    "        for key in params:\n",
    "            if type(l[key]) is unicode:\n",
    "                s = self.cleanse_str(l[key])\n",
    "                vals.append(s)\n",
    "            else:\n",
    "                vals.append(l[key])\n",
    "            writer.writerow(vals)\n",
    "            time.sleep(self.REQUEST_INTERVAL)\n",
    "            "
   ]
  },
  {
   "cell_type": "markdown",
   "metadata": {},
   "source": [
    "This calls the Listings endpoint for every listing id returned. We can specify parameters we want saved in `params.txt`. Currently, we have extracted latitude, longitude, price, star rating, review count, number of bathrooms, number of bedrooms, neighborhood names, number of beds, number of pictures, and the description. We will use this data in our linear regression models.\n",
    "\n",
    "You can run the `airbnb-client.py` script in this directory by running the following command:\n",
    "\n",
    "`python airbnb-client.py \"<location>\" <num results>`\n",
    "                                    \n",
    "                                    \n",
    "`$ python airbnb-client.py \"New York\" 500`\n",
    "\n",
    "The results will be saved to `airbnb-results.csv`. We will store this csv in a Pandas DataFrame."
   ]
  },
  {
   "cell_type": "code",
   "execution_count": 10,
   "metadata": {
    "collapsed": false,
    "scrolled": false
   },
   "outputs": [
    {
     "data": {
      "text/html": [
       "<div>\n",
       "<table border=\"1\" class=\"dataframe\">\n",
       "  <thead>\n",
       "    <tr style=\"text-align: right;\">\n",
       "      <th></th>\n",
       "      <th>lat</th>\n",
       "      <th>lng</th>\n",
       "      <th>price</th>\n",
       "      <th>star_rating</th>\n",
       "      <th>reviews_count</th>\n",
       "      <th>bathrooms</th>\n",
       "      <th>bedrooms</th>\n",
       "      <th>neighborhood</th>\n",
       "      <th>beds</th>\n",
       "      <th>picture_count</th>\n",
       "      <th>description</th>\n",
       "    </tr>\n",
       "  </thead>\n",
       "  <tbody>\n",
       "    <tr>\n",
       "      <th>0</th>\n",
       "      <td>40.683045</td>\n",
       "      <td>-73.964919</td>\n",
       "      <td>25</td>\n",
       "      <td>5.0</td>\n",
       "      <td>3</td>\n",
       "      <td>1.0</td>\n",
       "      <td>1</td>\n",
       "      <td>Clinton Hill</td>\n",
       "      <td>1.0</td>\n",
       "      <td>6</td>\n",
       "      <td>My place is in Clinton Hill near historic Bed-...</td>\n",
       "    </tr>\n",
       "    <tr>\n",
       "      <th>1</th>\n",
       "      <td>40.778616</td>\n",
       "      <td>-73.949092</td>\n",
       "      <td>85</td>\n",
       "      <td>NaN</td>\n",
       "      <td>1</td>\n",
       "      <td>1.0</td>\n",
       "      <td>1</td>\n",
       "      <td>Upper East Side</td>\n",
       "      <td>1.0</td>\n",
       "      <td>5</td>\n",
       "      <td>My place is close to Shake Shack The Metropoli...</td>\n",
       "    </tr>\n",
       "    <tr>\n",
       "      <th>2</th>\n",
       "      <td>40.745823</td>\n",
       "      <td>-73.996780</td>\n",
       "      <td>108</td>\n",
       "      <td>NaN</td>\n",
       "      <td>0</td>\n",
       "      <td>1.0</td>\n",
       "      <td>0</td>\n",
       "      <td>Chelsea</td>\n",
       "      <td>1.0</td>\n",
       "      <td>9</td>\n",
       "      <td>Walking distance to the High Line MACY*S Times...</td>\n",
       "    </tr>\n",
       "    <tr>\n",
       "      <th>3</th>\n",
       "      <td>40.731186</td>\n",
       "      <td>-73.988558</td>\n",
       "      <td>95</td>\n",
       "      <td>4.5</td>\n",
       "      <td>13</td>\n",
       "      <td>1.0</td>\n",
       "      <td>1</td>\n",
       "      <td>East Village</td>\n",
       "      <td>1.0</td>\n",
       "      <td>7</td>\n",
       "      <td>Lovely big room &amp; apartment with quiet private...</td>\n",
       "    </tr>\n",
       "    <tr>\n",
       "      <th>4</th>\n",
       "      <td>40.823202</td>\n",
       "      <td>-73.955805</td>\n",
       "      <td>35</td>\n",
       "      <td>5.0</td>\n",
       "      <td>9</td>\n",
       "      <td>1.0</td>\n",
       "      <td>1</td>\n",
       "      <td>Hamilton Heights</td>\n",
       "      <td>1.0</td>\n",
       "      <td>7</td>\n",
       "      <td>A beautiful space tucked in between Broadway a...</td>\n",
       "    </tr>\n",
       "  </tbody>\n",
       "</table>\n",
       "</div>"
      ],
      "text/plain": [
       "         lat        lng  price  star_rating  reviews_count  bathrooms  \\\n",
       "0  40.683045 -73.964919     25          5.0              3        1.0   \n",
       "1  40.778616 -73.949092     85          NaN              1        1.0   \n",
       "2  40.745823 -73.996780    108          NaN              0        1.0   \n",
       "3  40.731186 -73.988558     95          4.5             13        1.0   \n",
       "4  40.823202 -73.955805     35          5.0              9        1.0   \n",
       "\n",
       "   bedrooms      neighborhood  beds  picture_count  \\\n",
       "0         1      Clinton Hill   1.0              6   \n",
       "1         1   Upper East Side   1.0              5   \n",
       "2         0           Chelsea   1.0              9   \n",
       "3         1      East Village   1.0              7   \n",
       "4         1  Hamilton Heights   1.0              7   \n",
       "\n",
       "                                         description  \n",
       "0  My place is in Clinton Hill near historic Bed-...  \n",
       "1  My place is close to Shake Shack The Metropoli...  \n",
       "2  Walking distance to the High Line MACY*S Times...  \n",
       "3  Lovely big room & apartment with quiet private...  \n",
       "4  A beautiful space tucked in between Broadway a...  "
      ]
     },
     "execution_count": 10,
     "metadata": {},
     "output_type": "execute_result"
    }
   ],
   "source": [
    "airbnbDF = pd.read_csv(\"airbnb-results.csv\")\n",
    "airbnbDF.head()"
   ]
  },
  {
   "cell_type": "markdown",
   "metadata": {},
   "source": [
    "## Part I: Costliest Neighborhoods in NYC\n",
    "\n",
    "In this section, we'll create map visualizations to understand which areas of New York City have the most expensive Airbnb listings. To create these maps, we'll use gmaps, a Jupyter notebook plugin that lets you embed Google Maps elements into your notebook.\n",
    "\n",
    "To install gmaps:\n",
    "\n",
    "    `pip install gmaps`\n",
    "\n",
    "You'll also need a Google Maps Javascript API key to use gmaps. Get your API key [here](https://developers.google.com/maps/documentation/javascript/get-api-key#key)."
   ]
  },
  {
   "cell_type": "code",
   "execution_count": 11,
   "metadata": {
    "collapsed": true
   },
   "outputs": [],
   "source": [
    "import gmaps\n",
    "gmaps.configure(api_key=\"Your API here...\")"
   ]
  },
  {
   "cell_type": "markdown",
   "metadata": {},
   "source": [
    "### Plotting Airbnb Listings in NYC\n",
    "First, let's use gmaps to visualize the distribution of Airbnb listings across New York City. Here, we simply plot the latitude and longitude of our listing datapoints onto the map."
   ]
  },
  {
   "cell_type": "code",
   "execution_count": 12,
   "metadata": {
    "collapsed": false
   },
   "outputs": [],
   "source": [
    "airbnbLocations = []\n",
    "for i, listing in airbnbDF.iterrows():\n",
    "    coords = (listing['lat'], listing['lng'])\n",
    "    airbnbLocations.append(coords)\n",
    "airbnbLocationsLayer = gmaps.symbol_layer(airbnbLocations, fill_color=\"white\", \n",
    "                                          stroke_color=\"red\", scale=4)\n",
    "\n",
    "m = gmaps.Map()\n",
    "m.add_layer(airbnbLocationsLayer)\n",
    "m"
   ]
  },
  {
   "cell_type": "markdown",
   "metadata": {},
   "source": [
    "![Airbnb Map](locations_map.png)\n",
    "It appears that most listings are in the Manhattan area, with fewer in Brooklyn, Bronx, and the other boroughs."
   ]
  },
  {
   "cell_type": "markdown",
   "metadata": {
    "collapsed": true
   },
   "source": [
    "### Heatmap of Prices\n",
    "\n",
    "Now that we know the spread of the Airbnb properties geographically, we can also visualize the distribution of the listing prices across the city. We can do this using a weighted heatmap, which takes in the latitude, longitude, and price of each listing."
   ]
  },
  {
   "cell_type": "code",
   "execution_count": 13,
   "metadata": {
    "collapsed": true
   },
   "outputs": [],
   "source": [
    "airbnbLocationPrices = []\n",
    "for i, listing in airbnbDF.iterrows():\n",
    "    coordsAndPrice = (listing['lat'], listing['lng'], listing['price'])\n",
    "    airbnbLocationPrices.append(coordsAndPrice)\n",
    "\n",
    "m = gmaps.Map()\n",
    "priceHeatmapLayer = gmaps.WeightedHeatmap(data=airbnbLocationPrices)\n",
    "m.add_layer(priceHeatmapLayer)\n",
    "m"
   ]
  },
  {
   "cell_type": "markdown",
   "metadata": {},
   "source": [
    "![Prices Heatmap](prices_heatmap.png)\n",
    "As expected, the Manhattan area has the priciest listings, although certain pockets of Brooklyn appear expensive as well."
   ]
  },
  {
   "cell_type": "markdown",
   "metadata": {},
   "source": [
    "## Part II: What Factors Influence Price?\n",
    "\n",
    "As we've just seen, the location of a property influences its price. Now, we want to determine what other attributes are associated with the price of the listing. This information can help prospective hosts figure out how to price their properties or help guests determine which listings are overpriced (or underpriced) given their amenities.\n",
    "\n",
    "First, we will use linear regression to build a model to predict price from various attributes. Then, we will do hypothesis testing to determine which attributes are the most influential in the model and remove attributes or modify the model as needed.\n",
    "\n",
    "We will consider the following variables in our model:\n",
    "1. price - per night price of listing **(response variable)**\n",
    "2. star_rating - rating from 1 - 5\n",
    "3. bathrooms - number of bathrooms\n",
    "4. bedrooms - number of bedrooms\n",
    "5. beds - number of beds\n",
    "6. neighborhood"
   ]
  },
  {
   "cell_type": "markdown",
   "metadata": {},
   "source": [
    "### Exploratory Data Analysis\n",
    "\n",
    "Before we jump into any regression, let's first get an idea of which variables are related to price in the first place. We can create some conditional box plots to visualize the relationship between the ordered categorical variables (star_rating, bathrooms, bedrooms, beds, neighborhood) and price."
   ]
  },
  {
   "cell_type": "code",
   "execution_count": 87,
   "metadata": {
    "collapsed": false,
    "scrolled": true
   },
   "outputs": [
    {
     "data": {
      "text/plain": [
       "<matplotlib.text.Text at 0x1222d8e50>"
      ]
     },
     "execution_count": 87,
     "metadata": {},
     "output_type": "execute_result"
    },
    {
     "data": {
      "image/png": "[encoded data removed]",
      "text/plain": [
       "<matplotlib.figure.Figure at 0x1222b9a50>"
      ]
     },
     "metadata": {},
     "output_type": "display_data"
    }
   ],
   "source": [
    "bathrooms = []\n",
    "for name, group in airbnbDF.groupby(['bathrooms']):\n",
    "    bathrooms.append(group['price'].as_matrix())\n",
    "    \n",
    "plt.boxplot(bathrooms)\n",
    "plt.xticks([1,2,3,4,5,6], [0, 0.5, 1, 1.5, 2, 3])\n",
    "plt.xlabel(\"Number of Bathrooms\")\n",
    "plt.ylabel(\"Price\")"
   ]
  },
  {
   "cell_type": "code",
   "execution_count": 88,
   "metadata": {
    "collapsed": false
   },
   "outputs": [
    {
     "data": {
      "text/plain": [
       "<matplotlib.text.Text at 0x1227fc0d0>"
      ]
     },
     "execution_count": 88,
     "metadata": {},
     "output_type": "execute_result"
    },
    {
     "data": {
      "image/png": "[encoded data removed]",
      "text/plain": [
       "<matplotlib.figure.Figure at 0x1222b99d0>"
      ]
     },
     "metadata": {},
     "output_type": "display_data"
    }
   ],
   "source": [
    "bedrooms = []\n",
    "for name, group in airbnbDF.groupby(['bedrooms']):\n",
    "    bedrooms.append(group['price'].as_matrix())\n",
    "\n",
    "plt.boxplot(bedrooms)\n",
    "plt.xticks([1,2,3,4], [0, 1, 2, 3])\n",
    "plt.xlabel(\"Number of Bedrooms\")\n",
    "plt.ylabel(\"Price\")"
   ]
  },
  {
   "cell_type": "code",
   "execution_count": 89,
   "metadata": {
    "collapsed": false
   },
   "outputs": [
    {
     "data": {
      "text/plain": [
       "<matplotlib.text.Text at 0x122b0d410>"
      ]
     },
     "execution_count": 89,
     "metadata": {},
     "output_type": "execute_result"
    },
    {
     "data": {
      "image/png": "[encoded data removed]",
      "text/plain": [
       "<matplotlib.figure.Figure at 0x1224c0b90>"
      ]
     },
     "metadata": {},
     "output_type": "display_data"
    }
   ],
   "source": [
    "star_rating = []\n",
    "for name, group in airbnbDF.groupby(['star_rating']):\n",
    "    star_rating.append(group['price'].as_matrix())\n",
    "    \n",
    "plt.boxplot(star_rating)\n",
    "plt.xticks([1,2,3,4], [3.5, 4, 4.5, 5])\n",
    "plt.xlabel(\"Star Rating\")\n",
    "plt.ylabel(\"Price\")"
   ]
  },
  {
   "cell_type": "code",
   "execution_count": 93,
   "metadata": {
    "collapsed": false
   },
   "outputs": [
    {
     "data": {
      "text/plain": [
       "<matplotlib.text.Text at 0x1242cda90>"
      ]
     },
     "execution_count": 93,
     "metadata": {},
     "output_type": "execute_result"
    },
    {
     "data": {
      "image/png": "[encoded data removed]",
      "text/plain": [
       "<matplotlib.figure.Figure at 0x1258c6310>"
      ]
     },
     "metadata": {},
     "output_type": "display_data"
    }
   ],
   "source": [
    "neighborhood = []\n",
    "for name, group in airbnbDF.groupby(['neighborhood']):\n",
    "    neighborhood.append(group['price'].as_matrix())\n",
    "    \n",
    "plt.figure(figsize=(20,10))\n",
    "plt.boxplot(neighborhood)\n",
    "plt.xlabel(\"Neighborhood\")\n",
    "plt.ylabel(\"Price\")"
   ]
  },
  {
   "cell_type": "markdown",
   "metadata": {},
   "source": [
    "Clearly, some neighborhoods are more expensive than others, so this would be a good variable to include in our model. Also, there appears to be some linear trend in the number of bedrooms and star rating, so we can include those variables as well."
   ]
  },
  {
   "cell_type": "markdown",
   "metadata": {},
   "source": [
    "### Multivariate Linear Regression\n",
    "\n",
    "To do later..."
   ]
  },
  {
   "cell_type": "markdown",
   "metadata": {},
   "source": [
    "### Hypothesis Testing\n",
    "\n",
    "To do later..."
   ]
  },
  {
   "cell_type": "markdown",
   "metadata": {},
   "source": [
    "## Part III: What Factors Influence Star Rating?\n",
    "\n",
    "To be done later..."
   ]
  }
 ],
 "metadata": {
  "anaconda-cloud": {},
  "kernelspec": {
   "display_name": "Python [Root]",
   "language": "python",
   "name": "Python [Root]"
  },
  "language_info": {
   "codemirror_mode": {
    "name": "ipython",
    "version": 2
   },
   "file_extension": ".py",
   "mimetype": "text/x-python",
   "name": "python",
   "nbconvert_exporter": "python",
   "pygments_lexer": "ipython2",
   "version": "2.7.12"
  },
  "widgets": {
   "state": {
    "31c36e32d1fa4be28385966d0a353b5b": {
     "views": [
      {
       "cell_index": 15
      }
     ]
    },
    "ff356f31e8054488ae4c49f09d4ed3fb": {
     "views": [
      {
       "cell_index": 12
      }
     ]
    }
   },
   "version": "1.2.0"
  }
 },
 "nbformat": 4,
 "nbformat_minor": 0
}
